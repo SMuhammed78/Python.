{
  "nbformat": 4,
  "nbformat_minor": 0,
  "metadata": {
    "colab": {
      "provenance": []
    },
    "kernelspec": {
      "name": "python3",
      "display_name": "Python 3"
    },
    "language_info": {
      "name": "python"
    }
  },
  "cells": [
    {
      "cell_type": "markdown",
      "source": [
        "S Muhammed cse047"
      ],
      "metadata": {
        "id": "Nv1ZYNemIOwt"
      }
    },
    {
      "cell_type": "code",
      "source": [
        "#1.write the output of the following\n",
        "#k=['a','b','c','d']\n",
        "#print(k[-1:-7:-1])"
      ],
      "metadata": {
        "id": "V5Xz9twCIWQC"
      },
      "execution_count": null,
      "outputs": []
    },
    {
      "cell_type": "code",
      "source": [
        "k=['a','b','c','d']\n",
        "print(k[-1:-7:-1])\n"
      ],
      "metadata": {
        "colab": {
          "base_uri": "https://localhost:8080/"
        },
        "id": "fyk73ebXLn1S",
        "outputId": "38b81318-b17d-48c5-ee76-57b30dcbdc3c"
      },
      "execution_count": null,
      "outputs": [
        {
          "output_type": "stream",
          "name": "stdout",
          "text": [
            "['d', 'c', 'b', 'a']\n"
          ]
        }
      ]
    },
    {
      "cell_type": "code",
      "source": [
        "#2.reverse a list using Python\n",
        "#list1=['100','200','300','400','500']\n"
      ],
      "metadata": {
        "id": "9YKpFZabLslZ"
      },
      "execution_count": null,
      "outputs": []
    },
    {
      "cell_type": "code",
      "source": [
        "list1=['100','200','300','400','500']\n",
        "list1.reverse()\n",
        "print(list1)"
      ],
      "metadata": {
        "colab": {
          "base_uri": "https://localhost:8080/"
        },
        "id": "rEJuQZs8L0-y",
        "outputId": "8ef129ef-a6be-4c9b-cafb-542613914280"
      },
      "execution_count": null,
      "outputs": [
        {
          "output_type": "stream",
          "name": "stdout",
          "text": [
            "['500', '400', '300', '200', '100']\n"
          ]
        }
      ]
    },
    {
      "cell_type": "code",
      "source": [
        "#4. write a python program to find the square of 5\n"
      ],
      "metadata": {
        "id": "bF0RB_ItL7ti"
      },
      "execution_count": null,
      "outputs": []
    },
    {
      "cell_type": "code",
      "source": [
        "n=5\n",
        "x=n**2\n",
        "print(x)"
      ],
      "metadata": {
        "colab": {
          "base_uri": "https://localhost:8080/"
        },
        "id": "mSo3dDbYMIsB",
        "outputId": "af296b9e-e414-4a20-c878-7bf5f5ac3a17"
      },
      "execution_count": null,
      "outputs": [
        {
          "output_type": "stream",
          "name": "stdout",
          "text": [
            "25\n"
          ]
        }
      ]
    },
    {
      "cell_type": "code",
      "source": [
        "#5.write a python program to find the sum of all items in a dictionary\n",
        "#Input:{'a':100,'b':200,'c':300}\n"
      ],
      "metadata": {
        "id": "VX2TAUc9MMBp"
      },
      "execution_count": null,
      "outputs": []
    },
    {
      "cell_type": "code",
      "source": [
        "d = {\n",
        " 'a': 100,\n",
        " 'b': 200,\n",
        " 'c': 300\n",
        "}\n",
        "print(sum(d.values()))"
      ],
      "metadata": {
        "colab": {
          "base_uri": "https://localhost:8080/"
        },
        "id": "X8mGbetEMPux",
        "outputId": "da204d9c-9b6f-477e-b7f2-1e66c59cf908"
      },
      "execution_count": null,
      "outputs": [
        {
          "output_type": "stream",
          "name": "stdout",
          "text": [
            "600\n"
          ]
        }
      ]
    },
    {
      "cell_type": "code",
      "source": [
        "#7.write a program to construct the following pattern,using a nested for loop\n",
        "#*\n",
        "#**\n",
        "#***\n",
        "#****\n",
        "#*****\n",
        "#****\n",
        "#***\n",
        "#**\n",
        "#*"
      ],
      "metadata": {
        "id": "V9jIW1xJMSlx"
      },
      "execution_count": null,
      "outputs": []
    },
    {
      "cell_type": "code",
      "source": [
        "n=int(input('Enter the number of rows='))\n",
        "for i in range(0,n):\n",
        " for j in range(0,i):\n",
        "   print('*',end=' ')\n",
        " print()\n",
        "for i in range(n,0,-1):\n",
        " for j in range(i):\n",
        "   print('*',end=' ')\n",
        " print('')\n"
      ],
      "metadata": {
        "colab": {
          "base_uri": "https://localhost:8080/"
        },
        "id": "aTA6WFmaMWgp",
        "outputId": "ddfbf4a5-3aa7-49bb-e606-f1fd21f9beb3"
      },
      "execution_count": null,
      "outputs": [
        {
          "output_type": "stream",
          "name": "stdout",
          "text": [
            "Enter the number of rows=5\n",
            "\n",
            "* \n",
            "* * \n",
            "* * * \n",
            "* * * * \n",
            "* * * * * \n",
            "* * * * \n",
            "* * * \n",
            "* * \n",
            "* \n"
          ]
        }
      ]
    },
    {
      "cell_type": "code",
      "source": [
        "#8. write a Python function to calculate the factorial of a number (a non negative integer).The function accepts the number\n",
        "#as an argument\n",
        "#sample input:3,sample output:6\n"
      ],
      "metadata": {
        "id": "cQUS-Rv-MazR"
      },
      "execution_count": null,
      "outputs": []
    },
    {
      "cell_type": "code",
      "source": [
        "def mthd2(n):\n",
        "   f=1\n",
        "   for i in range(1,n+1):\n",
        "       f=f*i\n",
        "   print('Answer =',f)\n",
        "x=int(input('Enter a value='))\n",
        "mthd2(x)"
      ],
      "metadata": {
        "colab": {
          "base_uri": "https://localhost:8080/"
        },
        "id": "KBMXNe6vMuyq",
        "outputId": "301432ab-787c-409a-c513-97e1d433213f"
      },
      "execution_count": null,
      "outputs": [
        {
          "output_type": "stream",
          "name": "stdout",
          "text": [
            "Enter a value=3\n",
            "Answer = 6\n"
          ]
        }
      ]
    },
    {
      "cell_type": "code",
      "source": [
        "#9.Display all duplicate items from a list given:\n",
        "#10,20,60,30,20,40,30,60,70,80\n"
      ],
      "metadata": {
        "id": "U37yAlkAM2ap"
      },
      "execution_count": null,
      "outputs": []
    },
    {
      "cell_type": "code",
      "source": [
        "l=[10,20,60,30,20,40,30,60,70,80]\n",
        "l1=[]\n",
        "for i in l:\n",
        "    if i not in l1:\n",
        "        l1.append(i)\n",
        "    else:\n",
        "     print(i,end=' ')"
      ],
      "metadata": {
        "colab": {
          "base_uri": "https://localhost:8080/"
        },
        "id": "ti6KWxUBNbfp",
        "outputId": "44707705-c391-421d-e805-b1f836c767e6"
      },
      "execution_count": null,
      "outputs": [
        {
          "output_type": "stream",
          "name": "stdout",
          "text": [
            "20 30 60 "
          ]
        }
      ]
    },
    {
      "cell_type": "code",
      "source": [
        "#12. Modify the element of a nested list inside the following list:\n",
        "#Sample input : list1 = [5, [10, 15, [20, 25, [30, 35], 40], 45], 50]\n",
        "#Change the element 35 to 3500\n"
      ],
      "metadata": {
        "id": "TGP5otuwNowJ"
      },
      "execution_count": null,
      "outputs": []
    },
    {
      "cell_type": "code",
      "source": [
        "list_1 =[5, [10, 15, [20, 25, [30, 35], 40], 45], 50]\n",
        "list_1[1][2][2][1]=3500\n",
        "print(list_1)\n"
      ],
      "metadata": {
        "colab": {
          "base_uri": "https://localhost:8080/"
        },
        "id": "8wT3W-IyNtc4",
        "outputId": "2aa7e411-661a-4af5-e94e-df949906980c"
      },
      "execution_count": null,
      "outputs": [
        {
          "output_type": "stream",
          "name": "stdout",
          "text": [
            "[5, [10, 15, [20, 25, [30, 3500], 40], 45], 50]\n"
          ]
        }
      ]
    },
    {
      "cell_type": "code",
      "source": [
        "#11. Write a python program to print the numbers from a given number n till 0 using recursion"
      ],
      "metadata": {
        "id": "fdSvphDxNxnR"
      },
      "execution_count": null,
      "outputs": []
    },
    {
      "cell_type": "code",
      "source": [
        "def print_numbers(n):\n",
        "  if n == 0:\n",
        "   print(n)\n",
        "   return\n",
        "  print(n)\n",
        "  print_numbers(n - 1)\n",
        "num=10\n",
        "print_numbers(num)"
      ],
      "metadata": {
        "colab": {
          "base_uri": "https://localhost:8080/"
        },
        "id": "8CdDqEoqOCvp",
        "outputId": "9e541822-309b-4140-f3a4-17f14b87979d"
      },
      "execution_count": null,
      "outputs": [
        {
          "output_type": "stream",
          "name": "stdout",
          "text": [
            "10\n",
            "9\n",
            "8\n",
            "7\n",
            "6\n",
            "5\n",
            "4\n",
            "3\n",
            "2\n",
            "1\n",
            "0\n"
          ]
        }
      ]
    }
  ]
}